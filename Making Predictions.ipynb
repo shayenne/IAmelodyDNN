{
 "cells": [
  {
   "cell_type": "markdown",
   "metadata": {},
   "source": [
    "<center><h1>Making Predictions</h1></center>"
   ]
  },
  {
   "cell_type": "markdown",
   "metadata": {
    "collapsed": true
   },
   "source": [
    "Acabo de descobrir que a rede treinava com os dados de features e labels desalinhados. Dessa forma, é realmente impossível\n",
    "aprender algo que faça sentido. =S\n",
    "\n",
    "Alinhei os dados de entrada e agora estou testando os resultados um por um.\n",
    "\n",
    "Treinarei com 1 arquivo e compararei com outro\n",
    "\n",
    "Treinarei com 2 arquivos e compararei com outro\n",
    "\n",
    "Treinarei com 3 arquivos e compararei com outro\n",
    "\n",
    "Treinarei com todos os arquivos e compararei com outro."
   ]
  },
  {
   "cell_type": "code",
   "execution_count": 1,
   "metadata": {
    "collapsed": false
   },
   "outputs": [
    {
     "name": "stderr",
     "output_type": "stream",
     "text": [
      "Using TensorFlow backend.\n"
     ]
    }
   ],
   "source": [
    "import csv\n",
    "import matplotlib.pyplot as plt\n",
    "%matplotlib inline\n",
    "\n",
    "from keras.preprocessing import sequence\n",
    "from keras.models import Model, Sequential\n",
    "from keras.layers import Dense, Dropout, Embedding, LSTM, Input, add, Concatenate, merge, Add,Bidirectional, Activation, concatenate\n",
    "from keras.models import model_from_json\n",
    "import pandas as pd\n",
    "import keras.layers\n",
    "import keras\n",
    "import numpy\n",
    "import numpy as np"
   ]
  },
  {
   "cell_type": "markdown",
   "metadata": {},
   "source": [
    "### F0 prediction"
   ]
  },
  {
   "cell_type": "code",
   "execution_count": 2,
   "metadata": {
    "collapsed": false,
    "scrolled": true
   },
   "outputs": [
    {
     "name": "stdout",
     "output_type": "stream",
     "text": [
      "Loaded model from disk\n",
      "Compiled model\n"
     ]
    }
   ],
   "source": [
    "# load json and create model\n",
    "json_file = open('f0model.json', 'r')\n",
    "loaded_model_json = json_file.read()\n",
    "json_file.close()\n",
    "loaded_model_f0 = model_from_json(loaded_model_json)\n",
    "# load weights into new model\n",
    "loaded_model_f0.load_weights(\"f0model.h5\")\n",
    "print(\"Loaded model from disk\")\n",
    " \n",
    "# compile loaded model with the same parameters\n",
    "loaded_model_f0.compile(loss='categorical_crossentropy', optimizer='adam', metrics=['accuracy'])\n",
    "print(\"Compiled model\")"
   ]
  },
  {
   "cell_type": "code",
   "execution_count": 3,
   "metadata": {
    "collapsed": false
   },
   "outputs": [
    {
     "name": "stdout",
     "output_type": "stream",
     "text": [
      "(1089, 513)\n"
     ]
    }
   ],
   "source": [
    "# Load data to classify\n",
    "df1=pd.read_csv(\"/var/tmp/IA/features/MusicDelta_Reggae_features.csv\",header=None)\n",
    "X=pd.DataFrame.as_matrix(df1)\n",
    "print (X.shape)"
   ]
  },
  {
   "cell_type": "code",
   "execution_count": 4,
   "metadata": {
    "collapsed": true
   },
   "outputs": [],
   "source": [
    "# calculate predictions\n",
    "predictions = loaded_model_f0.predict(X)"
   ]
  },
  {
   "cell_type": "code",
   "execution_count": 5,
   "metadata": {
    "collapsed": false
   },
   "outputs": [
    {
     "data": {
      "image/png": "[encoded data removed]",
      "text/plain": [
       "<matplotlib.figure.Figure at 0x7f534c6a2b00>"
      ]
     },
     "metadata": {},
     "output_type": "display_data"
    }
   ],
   "source": [
    "# Plot the grid\n",
    "plt.figure(figsize=(10,6))\n",
    "plt.imshow(np.transpose(predictions), origin='lower')\n",
    "plt.show()"
   ]
  },
  {
   "cell_type": "code",
   "execution_count": 6,
   "metadata": {
    "collapsed": false,
    "scrolled": true
   },
   "outputs": [
    {
     "data": {
      "image/png": "[encoded data removed]",
      "text/plain": [
       "<matplotlib.figure.Figure at 0x7f52d41df518>"
      ]
     },
     "metadata": {},
     "output_type": "display_data"
    }
   ],
   "source": [
    "# Get labels to compare\n",
    "annot = \"/var/tmp/IA/labels/MusicDelta_Reggae_labels.csv\"\n",
    "\n",
    "labels = []\n",
    "\n",
    "with open(annot) as csvfile:\n",
    "    reader = csv.reader(csvfile)\n",
    "    for row in reader:\n",
    "        labels.append(float(row[0]))\n",
    "        \n",
    "for i in range(len(labels)):\n",
    "    if labels[i] <= 0:\n",
    "        labels[i] = None\n",
    "        \n",
    "# Plot melodic line from annotation\n",
    "plt.figure(figsize=(11,2))\n",
    "axes = plt.gca()\n",
    "axes.set_ylim([0,193])\n",
    "plt.plot(labels[::2])\n",
    "plt.xlabel('Time (s)')\n",
    "plt.ylabel('Frequency (Hz)')\n",
    "plt.show()"
   ]
  },
  {
   "cell_type": "code",
   "execution_count": 7,
   "metadata": {
    "collapsed": true
   },
   "outputs": [],
   "source": [
    "# The comparision is done with the labels precalculated, so it is necessary compare directly."
   ]
  },
  {
   "cell_type": "code",
   "execution_count": 8,
   "metadata": {
    "collapsed": true
   },
   "outputs": [],
   "source": [
    "# Remove noise from answers\n",
    "import scipy.signal\n",
    "ynotes = np.argmax(np.transpose(predictions), axis=0)"
   ]
  },
  {
   "cell_type": "code",
   "execution_count": 9,
   "metadata": {
    "collapsed": true
   },
   "outputs": [],
   "source": [
    "#https://jyyuan.wordpress.com/2014/01/22/viterbi-algorithm-finding-most-likely-sequence-in-hmm/\n",
    "# classes/functions go here\n",
    "def viterbi_alg(A_mat, O_mat, observations):\n",
    "    # get number of states\n",
    "    num_obs = observations.size\n",
    "    num_states = A_mat.shape[0]\n",
    "    # initialize path costs going into each state, start with 0\n",
    "    log_probs = np.zeros(num_states)\n",
    "    # initialize arrays to store best paths, 1 row for each ending state\n",
    "    paths = np.zeros( (num_states, num_obs+1 ))\n",
    "    paths[:, 0] = np.arange(num_states)\n",
    "    # start looping\n",
    "    for obs_ind, obs_val in enumerate(observations):\n",
    "        # for each obs, need to check for best path into each state\n",
    "        for state_ind in range(num_states):\n",
    "            # given observation, check prob of each path\n",
    "            temp_probs = log_probs + \\\n",
    "                         np.log(O_mat[state_ind, obs_val]) + \\\n",
    "                         np.log(A_mat[:, state_ind])\n",
    "            # check for largest score\n",
    "            best_temp_ind = np.argmax(temp_probs)\n",
    "            # save the path with a higher prob and score\n",
    "            paths[state_ind,:] = paths[best_temp_ind,:]\n",
    "            paths[state_ind,(obs_ind+1)] = state_ind\n",
    "            log_probs[state_ind] = temp_probs[best_temp_ind]\n",
    "    # we now have a best stuff going into each path, find the best score\n",
    "    best_path_ind = np.argmax(log_probs)\n",
    "    # done, get out.\n",
    "    return (best_path_ind, paths, log_probs)"
   ]
  },
  {
   "cell_type": "code",
   "execution_count": 10,
   "metadata": {
    "collapsed": false
   },
   "outputs": [
    {
     "name": "stdout",
     "output_type": "stream",
     "text": [
      "[[  1.00000000e+01   1.11111111e+00   5.26315789e-01 ...,   5.26592944e-03\n",
      "    5.23834468e-03   5.21104742e-03]\n",
      " [  9.09090909e-01   1.00000000e+01   1.11111111e+00 ...,   5.29380625e-03\n",
      "    5.26592944e-03   5.23834468e-03]\n",
      " [  4.76190476e-01   9.09090909e-01   1.00000000e+01 ...,   5.32197978e-03\n",
      "    5.29380625e-03   5.26592944e-03]\n",
      " ..., \n",
      " [  5.26038927e-03   5.28820730e-03   5.31632111e-03 ...,   1.00000000e+01\n",
      "    1.11111111e+00   5.26315789e-01]\n",
      " [  5.23286238e-03   5.26038927e-03   5.28820730e-03 ...,   9.09090909e-01\n",
      "    1.00000000e+01   1.11111111e+00]\n",
      " [  5.20562207e-03   5.23286238e-03   5.26038927e-03 ...,   4.76190476e-01\n",
      "    9.09090909e-01   1.00000000e+01]]\n"
     ]
    }
   ],
   "source": [
    "trans_mtx = np.ones((193 ,193))\n",
    "for k in range(193):\n",
    "    for l in range(193):\n",
    "        trans_mtx[k][l] = 1/abs(k-l+0.1)\n",
    "print (trans_mtx)\n"
   ]
  },
  {
   "cell_type": "code",
   "execution_count": 11,
   "metadata": {
    "collapsed": false
   },
   "outputs": [
    {
     "name": "stdout",
     "output_type": "stream",
     "text": [
      "obs1 is [70 74 79 ..., 93 88 88]\n",
      "obs1, best path is[ 69.  72.  76. ...,  88.  88.  89.]\n"
     ]
    }
   ],
   "source": [
    "# Make the signal smooth (Lower Raw Pitch Accuracy)\n",
    "#ynotes = scipy.signal.medfilt(np.argmax(np.transpose(predictions), axis=0).tolist(), 5)\n",
    "\n",
    "best_path_ind, paths, log_probs = viterbi_alg(trans_mtx, trans_mtx, ynotes)\n",
    "print (\"obs1 is \" + str(ynotes))\n",
    "print (\"obs1, best path is\" + str(paths[best_path_ind,:]))"
   ]
  },
  {
   "cell_type": "code",
   "execution_count": 13,
   "metadata": {
    "collapsed": false
   },
   "outputs": [
    {
     "data": {
      "image/png": "[encoded data removed]",
      "text/plain": [
       "<matplotlib.figure.Figure at 0x7f52d4161198>"
      ]
     },
     "metadata": {},
     "output_type": "display_data"
    }
   ],
   "source": [
    "# Plot melodic line from annotation and result\n",
    "plt.figure(figsize=(11,2))\n",
    "axes = plt.gca()\n",
    "axes.set_ylim([0,193])\n",
    "plt.plot(labels[::2], solid_capstyle=\"round\", linewidth=3, color='black')\n",
    "plt.plot(ynotes, solid_capstyle=\"round\", linewidth=1.5, color='green')\n",
    "plt.plot(paths[best_path_ind,:], solid_capstyle=\"round\", linewidth=1.5, color='green')\n",
    "plt.xlabel('Time (s)')\n",
    "plt.ylabel('Class Index (0-193)')\n",
    "plt.show()"
   ]
  },
  {
   "cell_type": "markdown",
   "metadata": {},
   "source": [
    "### Measures"
   ]
  },
  {
   "cell_type": "code",
   "execution_count": 14,
   "metadata": {
    "collapsed": false
   },
   "outputs": [
    {
     "name": "stdout",
     "output_type": "stream",
     "text": [
      "Raw Pitch Accuracy: 0.7248803827751196\n"
     ]
    }
   ],
   "source": [
    "# RAW PITCH ACCURACY (error less than a half of a semitone)\n",
    "# How the classes are done for represent an eight of tone, if the error of estimation\n",
    "# is in the range {f0-2, f0+2}, the estimation is correct. res = ynotes\n",
    "lbl = labels[::2]\n",
    "res = ynotes\n",
    "acc = 0\n",
    "vstar = 0\n",
    "\n",
    "for j in range(len(ynotes)):\n",
    "    if lbl[j] is not None:\n",
    "        vstar += 1\n",
    "        if res[j] >= lbl[j]-2 and res[j] <= lbl[j]+2:\n",
    "            acc += 1\n",
    "    \n",
    "print (\"Raw Pitch Accuracy:\", acc/vstar)    "
   ]
  },
  {
   "cell_type": "code",
   "execution_count": 15,
   "metadata": {
    "collapsed": false
   },
   "outputs": [
    {
     "name": "stdout",
     "output_type": "stream",
     "text": [
      "Raw Pitch Accuracy: 0.916267942583732\n"
     ]
    }
   ],
   "source": [
    "# RAW PITCH ACCURACY (error less than a half of a semitone)\n",
    "# How the classes are done for represent an eight of tone, if the error of estimation\n",
    "# is in the range {f0-2, f0+2}, the estimation is correct. res = ynotes\n",
    "lbl = labels[::2]\n",
    "res = paths[best_path_ind,:]\n",
    "acc = 0\n",
    "vstar = 0\n",
    "\n",
    "for j in range(len(ynotes)):\n",
    "    if lbl[j] is not None:\n",
    "        vstar += 1\n",
    "        if res[j] >= lbl[j]-2 and res[j] <= lbl[j]+2:\n",
    "            acc += 1\n",
    "    \n",
    "print (\"Raw Pitch Accuracy:\", acc/vstar)    "
   ]
  },
  {
   "cell_type": "markdown",
   "metadata": {},
   "source": [
    "### SVDMODEL"
   ]
  },
  {
   "cell_type": "code",
   "execution_count": 2,
   "metadata": {
    "collapsed": false
   },
   "outputs": [
    {
     "name": "stdout",
     "output_type": "stream",
     "text": [
      "Loaded model from disk\n",
      "Compiled model\n"
     ]
    }
   ],
   "source": [
    "# load json and create model\n",
    "json_file = open('LSTMmodel.json', 'r')\n",
    "loaded_model_json = json_file.read()\n",
    "json_file.close()\n",
    "loaded_model_svd = model_from_json(loaded_model_json)\n",
    "# load weights into new model\n",
    "loaded_model_svd.load_weights(\"LSTMmodel.h5\")\n",
    "print(\"Loaded model from disk\")\n",
    "\n",
    "# compile loaded model with the same parameters\n",
    "loaded_model_svd.compile(loss='binary_crossentropy', optimizer='adam', metrics=['accuracy'])\n",
    "print(\"Compiled model\")"
   ]
  },
  {
   "cell_type": "code",
   "execution_count": 3,
   "metadata": {
    "collapsed": false
   },
   "outputs": [
    {
     "name": "stdout",
     "output_type": "stream",
     "text": [
      "(2177, 120)\n"
     ]
    }
   ],
   "source": [
    "# Load data to classify\n",
    "df1 = pd.read_csv(\"/var/tmp/IA/mfcc/MusicDelta_Reggae_mfcc.csv\",header=None)\n",
    "X = pd.DataFrame.as_matrix(df1)\n",
    "print (X.shape)"
   ]
  },
  {
   "cell_type": "code",
   "execution_count": 4,
   "metadata": {
    "collapsed": false
   },
   "outputs": [
    {
     "data": {
      "text/plain": [
       "array([ 1.,  1.,  1.,  1.,  1.,  1.,  1.,  1.,  1.,  1.,  1.,  1.,  1.,\n",
       "        1.,  1.,  1.,  1.,  1.,  1.,  1.,  1.,  1.,  1.,  1.,  1.,  1.,\n",
       "        1.,  1.,  1.,  1.,  1.,  1.,  1.,  1.,  1.,  1.,  1.,  1.,  1.,\n",
       "        1.,  1.,  1.,  1.,  1.,  1.,  1.,  1.,  1.,  1.,  1.,  1.,  1.,\n",
       "        1.,  1.,  1.,  1.,  1.,  1.,  1.,  1.,  1.,  1.,  1.,  1.,  1.,\n",
       "        1.,  1.,  1.,  1.,  1.,  1.,  1.,  1.,  1.,  1.,  1.,  1.,  1.,\n",
       "        1.,  1.,  1.,  1.,  1.,  1.,  1.,  1.,  1.,  1.,  1.,  1.,  1.,\n",
       "        1.,  1.,  1.,  1.,  1.,  1.,  1.,  1.,  1.,  1.,  1.,  1.,  1.,\n",
       "        1.,  1.,  1.,  1.,  1.,  1.,  1.,  1.,  1.,  1.,  1.,  1.,  1.,\n",
       "        1.,  1.,  1.])"
      ]
     },
     "execution_count": 4,
     "metadata": {},
     "output_type": "execute_result"
    }
   ],
   "source": [
    "# Data Normalization (this step makes me worried =/)\n",
    "X.max()\n",
    "meanDF = X - np.mean(X, axis=0).reshape(1, X.shape[1])\n",
    "X  = meanDF / np.std(meanDF, axis=0).reshape(1, X.shape[1])\n",
    "np.std(X, axis=0)"
   ]
  },
  {
   "cell_type": "code",
   "execution_count": 5,
   "metadata": {
    "collapsed": false
   },
   "outputs": [
    {
     "name": "stdout",
     "output_type": "stream",
     "text": [
      "[[ 0.50157851]\n",
      " [ 0.50157279]\n",
      " [ 0.5015744 ]\n",
      " ..., \n",
      " [ 0.50157928]\n",
      " [ 0.50157928]\n",
      " [ 0.50157928]]\n"
     ]
    }
   ],
   "source": [
    "# calculate predictions\n",
    "voiced = loaded_model_svd.predict(X)\n",
    "print(voiced)"
   ]
  },
  {
   "cell_type": "code",
   "execution_count": 6,
   "metadata": {
    "collapsed": false
   },
   "outputs": [
    {
     "data": {
      "text/plain": [
       "0.70192832007328021"
      ]
     },
     "execution_count": 6,
     "metadata": {},
     "output_type": "execute_result"
    }
   ],
   "source": [
    "X[0].std()"
   ]
  },
  {
   "cell_type": "code",
   "execution_count": 7,
   "metadata": {
    "collapsed": false,
    "scrolled": true
   },
   "outputs": [
    {
     "name": "stdout",
     "output_type": "stream",
     "text": [
      "0.501943 0.498236\n"
     ]
    }
   ],
   "source": [
    "print (np.max(voiced), np.min(voiced))"
   ]
  },
  {
   "cell_type": "code",
   "execution_count": 8,
   "metadata": {
    "collapsed": false
   },
   "outputs": [],
   "source": [
    "# Activation output - need to be 0.5\n",
    "vcd = voiced.copy()\n",
    "vcd[vcd <  0.5] = 0\n",
    "vcd[vcd >= 0.5] = 1"
   ]
  },
  {
   "cell_type": "markdown",
   "metadata": {
    "collapsed": true
   },
   "source": [
    "### Measures"
   ]
  },
  {
   "cell_type": "code",
   "execution_count": 9,
   "metadata": {
    "collapsed": false
   },
   "outputs": [
    {
     "ename": "NameError",
     "evalue": "name 'labels' is not defined",
     "output_type": "error",
     "traceback": [
      "\u001b[0;31m---------------------------------------------------------------------------\u001b[0m",
      "\u001b[0;31mNameError\u001b[0m                                 Traceback (most recent call last)",
      "\u001b[0;32m<ipython-input-9-78b84ec1533a>\u001b[0m in \u001b[0;36m<module>\u001b[0;34m()\u001b[0m\n\u001b[1;32m      5\u001b[0m \u001b[0;34m\u001b[0m\u001b[0m\n\u001b[1;32m      6\u001b[0m \u001b[0mres\u001b[0m \u001b[0;34m=\u001b[0m \u001b[0mvocal\u001b[0m\u001b[0;34m.\u001b[0m\u001b[0mcopy\u001b[0m\u001b[0;34m(\u001b[0m\u001b[0;34m)\u001b[0m\u001b[0;34m\u001b[0m\u001b[0m\n\u001b[0;32m----> 7\u001b[0;31m \u001b[0mlbl\u001b[0m \u001b[0;34m=\u001b[0m \u001b[0mlabels\u001b[0m\u001b[0;34m.\u001b[0m\u001b[0mcopy\u001b[0m\u001b[0;34m(\u001b[0m\u001b[0;34m)\u001b[0m\u001b[0;34m\u001b[0m\u001b[0m\n\u001b[0m\u001b[1;32m      8\u001b[0m \u001b[0;34m\u001b[0m\u001b[0m\n\u001b[1;32m      9\u001b[0m \u001b[0;32mfor\u001b[0m \u001b[0mj\u001b[0m \u001b[0;32min\u001b[0m \u001b[0mrange\u001b[0m\u001b[0;34m(\u001b[0m\u001b[0mlen\u001b[0m\u001b[0;34m(\u001b[0m\u001b[0mvocal\u001b[0m\u001b[0;34m)\u001b[0m\u001b[0;34m)\u001b[0m\u001b[0;34m:\u001b[0m\u001b[0;34m\u001b[0m\u001b[0m\n",
      "\u001b[0;31mNameError\u001b[0m: name 'labels' is not defined"
     ]
    }
   ],
   "source": [
    "# We have the same value of voiced frames and labeled frames!!!\n",
    "vocal = vcd\n",
    "\n",
    "TN, TP, FN, FP = 0, 0, 0, 0\n",
    "\n",
    "res = vocal.copy()\n",
    "lbl = labels.copy()\n",
    "\n",
    "for j in range(len(vocal)):\n",
    "    if res[j] == 0:\n",
    "        res[j] = None\n",
    "        if lbl[j] == res[j]:\n",
    "            TN += 1\n",
    "        else:\n",
    "            FN += 1\n",
    "\n",
    "    if lbl[j] is not None:\n",
    "        lbl[j] = 1\n",
    "        if lbl[j] == res[j]:\n",
    "            TP += 1\n",
    "    \n",
    "    elif res[j] == 1:\n",
    "        FP += 1"
   ]
  },
  {
   "cell_type": "code",
   "execution_count": 10,
   "metadata": {
    "collapsed": false
   },
   "outputs": [
    {
     "ename": "ZeroDivisionError",
     "evalue": "division by zero",
     "output_type": "error",
     "traceback": [
      "\u001b[0;31m---------------------------------------------------------------------------\u001b[0m",
      "\u001b[0;31mZeroDivisionError\u001b[0m                         Traceback (most recent call last)",
      "\u001b[0;32m<ipython-input-10-ddaa6e87b173>\u001b[0m in \u001b[0;36m<module>\u001b[0;34m()\u001b[0m\n\u001b[0;32m----> 1\u001b[0;31m \u001b[0mprint\u001b[0m \u001b[0;34m(\u001b[0m\u001b[0;34m\"Precision\"\u001b[0m\u001b[0;34m,\u001b[0m \u001b[0mTP\u001b[0m\u001b[0;34m/\u001b[0m\u001b[0;34m(\u001b[0m\u001b[0mTP\u001b[0m\u001b[0;34m+\u001b[0m\u001b[0mFP\u001b[0m\u001b[0;34m)\u001b[0m\u001b[0;34m)\u001b[0m\u001b[0;34m\u001b[0m\u001b[0m\n\u001b[0m\u001b[1;32m      2\u001b[0m \u001b[0mprint\u001b[0m \u001b[0;34m(\u001b[0m\u001b[0;34m\"Recall\"\u001b[0m\u001b[0;34m,\u001b[0m \u001b[0mTP\u001b[0m\u001b[0;34m/\u001b[0m\u001b[0;34m(\u001b[0m\u001b[0mTP\u001b[0m\u001b[0;34m+\u001b[0m\u001b[0mFN\u001b[0m\u001b[0;34m)\u001b[0m\u001b[0;34m)\u001b[0m\u001b[0;34m\u001b[0m\u001b[0m\n\u001b[1;32m      3\u001b[0m \u001b[0mprint\u001b[0m \u001b[0;34m(\u001b[0m\u001b[0;34m\"Voicing Recall Rate:\"\u001b[0m\u001b[0;34m,\u001b[0m \u001b[0mTP\u001b[0m\u001b[0;34m/\u001b[0m\u001b[0;34m(\u001b[0m\u001b[0mTP\u001b[0m\u001b[0;34m+\u001b[0m\u001b[0mFN\u001b[0m\u001b[0;34m)\u001b[0m\u001b[0;34m)\u001b[0m\u001b[0;34m\u001b[0m\u001b[0m\n\u001b[1;32m      4\u001b[0m \u001b[0mprint\u001b[0m \u001b[0;34m(\u001b[0m\u001b[0;34m\"Voicing False Alarm Rate:\"\u001b[0m\u001b[0;34m,\u001b[0m \u001b[0mFP\u001b[0m\u001b[0;34m/\u001b[0m\u001b[0;34m(\u001b[0m\u001b[0mTN\u001b[0m\u001b[0;34m+\u001b[0m\u001b[0mFP\u001b[0m\u001b[0;34m)\u001b[0m\u001b[0;34m)\u001b[0m\u001b[0;34m\u001b[0m\u001b[0m\n",
      "\u001b[0;31mZeroDivisionError\u001b[0m: division by zero"
     ]
    }
   ],
   "source": [
    "print (\"Precision\", TP/(TP+FP))\n",
    "print (\"Recall\", TP/(TP+FN))\n",
    "print (\"Voicing Recall Rate:\", TP/(TP+FN))\n",
    "print (\"Voicing False Alarm Rate:\", FP/(TN+FP))  "
   ]
  },
  {
   "cell_type": "code",
   "execution_count": 11,
   "metadata": {
    "collapsed": false,
    "scrolled": true
   },
   "outputs": [
    {
     "ename": "NameError",
     "evalue": "name 'lbl' is not defined",
     "output_type": "error",
     "traceback": [
      "\u001b[0;31m---------------------------------------------------------------------------\u001b[0m",
      "\u001b[0;31mNameError\u001b[0m                                 Traceback (most recent call last)",
      "\u001b[0;32m<ipython-input-11-bd025a24447f>\u001b[0m in \u001b[0;36m<module>\u001b[0;34m()\u001b[0m\n\u001b[1;32m      1\u001b[0m \u001b[0;31m# Plot melodic line from annotation\u001b[0m\u001b[0;34m\u001b[0m\u001b[0;34m\u001b[0m\u001b[0m\n\u001b[1;32m      2\u001b[0m \u001b[0mplt\u001b[0m\u001b[0;34m.\u001b[0m\u001b[0mfigure\u001b[0m\u001b[0;34m(\u001b[0m\u001b[0mfigsize\u001b[0m\u001b[0;34m=\u001b[0m\u001b[0;34m(\u001b[0m\u001b[0;36m11\u001b[0m\u001b[0;34m,\u001b[0m\u001b[0;36m2\u001b[0m\u001b[0;34m)\u001b[0m\u001b[0;34m)\u001b[0m\u001b[0;34m\u001b[0m\u001b[0m\n\u001b[0;32m----> 3\u001b[0;31m \u001b[0mplt\u001b[0m\u001b[0;34m.\u001b[0m\u001b[0mplot\u001b[0m\u001b[0;34m(\u001b[0m\u001b[0mlbl\u001b[0m\u001b[0;34m,\u001b[0m \u001b[0msolid_capstyle\u001b[0m\u001b[0;34m=\u001b[0m\u001b[0;34m\"round\"\u001b[0m\u001b[0;34m,\u001b[0m \u001b[0mlinewidth\u001b[0m\u001b[0;34m=\u001b[0m\u001b[0;36m3\u001b[0m\u001b[0;34m,\u001b[0m \u001b[0mcolor\u001b[0m\u001b[0;34m=\u001b[0m\u001b[0;34m'black'\u001b[0m\u001b[0;34m)\u001b[0m\u001b[0;34m\u001b[0m\u001b[0m\n\u001b[0m\u001b[1;32m      4\u001b[0m \u001b[0mplt\u001b[0m\u001b[0;34m.\u001b[0m\u001b[0mplot\u001b[0m\u001b[0;34m(\u001b[0m\u001b[0mres\u001b[0m\u001b[0;34m,\u001b[0m \u001b[0msolid_capstyle\u001b[0m\u001b[0;34m=\u001b[0m\u001b[0;34m\"round\"\u001b[0m\u001b[0;34m,\u001b[0m \u001b[0mlinewidth\u001b[0m\u001b[0;34m=\u001b[0m\u001b[0;36m1.5\u001b[0m\u001b[0;34m,\u001b[0m \u001b[0mcolor\u001b[0m\u001b[0;34m=\u001b[0m\u001b[0;34m'green'\u001b[0m\u001b[0;34m)\u001b[0m\u001b[0;34m\u001b[0m\u001b[0m\n\u001b[1;32m      5\u001b[0m \u001b[0mplt\u001b[0m\u001b[0;34m.\u001b[0m\u001b[0mxlabel\u001b[0m\u001b[0;34m(\u001b[0m\u001b[0;34m'Time (s)'\u001b[0m\u001b[0;34m)\u001b[0m\u001b[0;34m\u001b[0m\u001b[0m\n",
      "\u001b[0;31mNameError\u001b[0m: name 'lbl' is not defined"
     ]
    },
    {
     "data": {
      "text/plain": [
       "<matplotlib.figure.Figure at 0x7fcbbc774710>"
      ]
     },
     "metadata": {},
     "output_type": "display_data"
    }
   ],
   "source": [
    "# Plot melodic line from annotation\n",
    "plt.figure(figsize=(11,2))\n",
    "plt.plot(lbl, solid_capstyle=\"round\", linewidth=3, color='black')\n",
    "plt.plot(res, solid_capstyle=\"round\", linewidth=1.5, color='green')\n",
    "plt.xlabel('Time (s)')\n",
    "plt.ylabel('Class Index (0-193)')\n",
    "plt.show()"
   ]
  },
  {
   "cell_type": "code",
   "execution_count": 12,
   "metadata": {
    "collapsed": false,
    "scrolled": true
   },
   "outputs": [
    {
     "ename": "NameError",
     "evalue": "name 'ynotes' is not defined",
     "output_type": "error",
     "traceback": [
      "\u001b[0;31m---------------------------------------------------------------------------\u001b[0m",
      "\u001b[0;31mNameError\u001b[0m                                 Traceback (most recent call last)",
      "\u001b[0;32m<ipython-input-12-aa8e6514bf87>\u001b[0m in \u001b[0;36m<module>\u001b[0;34m()\u001b[0m\n\u001b[1;32m      2\u001b[0m \u001b[0mres\u001b[0m \u001b[0;34m=\u001b[0m \u001b[0;34m[\u001b[0m\u001b[0;34m]\u001b[0m\u001b[0;34m\u001b[0m\u001b[0m\n\u001b[1;32m      3\u001b[0m \u001b[0;34m\u001b[0m\u001b[0m\n\u001b[0;32m----> 4\u001b[0;31m \u001b[0;32mfor\u001b[0m \u001b[0mj\u001b[0m \u001b[0;32min\u001b[0m \u001b[0mrange\u001b[0m\u001b[0;34m(\u001b[0m\u001b[0mlen\u001b[0m\u001b[0;34m(\u001b[0m\u001b[0mynotes\u001b[0m\u001b[0;34m)\u001b[0m\u001b[0;34m)\u001b[0m\u001b[0;34m:\u001b[0m\u001b[0;34m\u001b[0m\u001b[0m\n\u001b[0m\u001b[1;32m      5\u001b[0m     \u001b[0mres\u001b[0m\u001b[0;34m.\u001b[0m\u001b[0mappend\u001b[0m\u001b[0;34m(\u001b[0m\u001b[0mint\u001b[0m\u001b[0;34m(\u001b[0m\u001b[0mvocal\u001b[0m\u001b[0;34m[\u001b[0m\u001b[0mj\u001b[0m\u001b[0;34m]\u001b[0m\u001b[0;34m*\u001b[0m\u001b[0mfloat\u001b[0m\u001b[0;34m(\u001b[0m\u001b[0mynotes\u001b[0m\u001b[0;34m[\u001b[0m\u001b[0mj\u001b[0m\u001b[0;34m]\u001b[0m\u001b[0;34m)\u001b[0m\u001b[0;34m)\u001b[0m\u001b[0;34m)\u001b[0m\u001b[0;34m\u001b[0m\u001b[0m\n\u001b[1;32m      6\u001b[0m     \u001b[0;32mif\u001b[0m \u001b[0mres\u001b[0m\u001b[0;34m[\u001b[0m\u001b[0mj\u001b[0m\u001b[0;34m]\u001b[0m \u001b[0;34m==\u001b[0m \u001b[0;36m0\u001b[0m\u001b[0;34m:\u001b[0m\u001b[0;34m\u001b[0m\u001b[0m\n",
      "\u001b[0;31mNameError\u001b[0m: name 'ynotes' is not defined"
     ]
    }
   ],
   "source": [
    "# We have doubled vocal answers\n",
    "res = []\n",
    "\n",
    "for j in range(len(ynotes)):\n",
    "    res.append(int(vocal[j]*float(ynotes[j])))\n",
    "    if res[j] == 0:\n",
    "        res[j] = None\n",
    "\n",
    "# Plot melodic line from annotation\n",
    "plt.figure(figsize=(11,2))\n",
    "plt.plot(res)\n",
    "plt.xlabel('Time (s)')\n",
    "plt.ylabel('Class Index (0-193)')\n",
    "plt.show()"
   ]
  },
  {
   "cell_type": "code",
   "execution_count": null,
   "metadata": {
    "collapsed": true
   },
   "outputs": [],
   "source": []
  },
  {
   "cell_type": "code",
   "execution_count": 38,
   "metadata": {
    "collapsed": false
   },
   "outputs": [
    {
     "name": "stdout",
     "output_type": "stream",
     "text": [
      "Create model...\n",
      "Compile model...\n"
     ]
    }
   ],
   "source": [
    "from keras.initializers import RandomNormal\n",
    "max_features = 120\n",
    "hidden_neurons = 50\n",
    "maxlen = 120\n",
    "batch_size = 1000\n",
    "# create model\n",
    "print(\"Create model...\")\n",
    "model = Sequential()\n",
    "model.add(Embedding(max_features, 50, input_length=maxlen))\n",
    "model.add(LSTM(50, return_sequences=True, kernel_initializer = RandomNormal(mean = 0, stddev = 0.1)))\n",
    "model.add(LSTM(50, return_sequences=True, kernel_initializer = RandomNormal(mean = 0, stddev = 0.1)))\n",
    "model.add(LSTM(50, kernel_initializer = RandomNormal(mean = 0, stddev = 0.1)))\n",
    "#model.add(Dropout(0.5))\n",
    "model.add(Dense(1, activation='sigmoid'))\n",
    "\n",
    "# Compile model\n",
    "# 20 epochs without change\n",
    "print(\"Compile model...\")\n",
    "model.compile('adam', 'binary_crossentropy', metrics=['accuracy'])"
   ]
  },
  {
   "cell_type": "code",
   "execution_count": 39,
   "metadata": {
    "collapsed": false,
    "scrolled": true
   },
   "outputs": [
    {
     "name": "stdout",
     "output_type": "stream",
     "text": [
      "[[ 0.49992728]\n",
      " [ 0.49992692]\n",
      " [ 0.49992561]\n",
      " ..., \n",
      " [ 0.49992681]\n",
      " [ 0.49992681]\n",
      " [ 0.49992681]]\n"
     ]
    }
   ],
   "source": [
    "# calculate predictions\n",
    "voiced2 = model.predict(X)\n",
    "print(voiced2)"
   ]
  },
  {
   "cell_type": "code",
   "execution_count": null,
   "metadata": {
    "collapsed": true
   },
   "outputs": [],
   "source": []
  },
  {
   "cell_type": "code",
   "execution_count": 40,
   "metadata": {
    "collapsed": false
   },
   "outputs": [],
   "source": [
    "# Activation output - need to be 0.5\n",
    "vcd = voiced2.copy()\n",
    "vcd[vcd <  0.5] = 0\n",
    "vcd[vcd >= 0.5] = 1"
   ]
  },
  {
   "cell_type": "markdown",
   "metadata": {
    "collapsed": true
   },
   "source": [
    "### Measures"
   ]
  },
  {
   "cell_type": "code",
   "execution_count": 41,
   "metadata": {
    "collapsed": false
   },
   "outputs": [
    {
     "name": "stderr",
     "output_type": "stream",
     "text": [
      "/usr/lib/python3/dist-packages/ipykernel/__main__.py:12: FutureWarning: comparison to `None` will result in an elementwise object comparison in the future.\n"
     ]
    }
   ],
   "source": [
    "# We have the same value of voiced frames and labeled frames!!!\n",
    "vocal = vcd\n",
    "\n",
    "TN, TP, FN, FP = 0, 0, 0, 0\n",
    "\n",
    "res = vocal.copy()\n",
    "lbl = labels.copy()\n",
    "\n",
    "for j in range(len(vocal)):\n",
    "    if res[j] == 0:\n",
    "        res[j] = None\n",
    "        if lbl[j] == res[j]:\n",
    "            TN += 1\n",
    "        else:\n",
    "            FN += 1\n",
    "\n",
    "    if lbl[j] is not None:\n",
    "        lbl[j] = 1\n",
    "        if lbl[j] == res[j]:\n",
    "            TP += 1\n",
    "    \n",
    "    elif res[j] == 1:\n",
    "        FP += 1"
   ]
  },
  {
   "cell_type": "code",
   "execution_count": 42,
   "metadata": {
    "collapsed": false
   },
   "outputs": [
    {
     "name": "stdout",
     "output_type": "stream",
     "text": [
      "Precision 0.45323741007194246\n",
      "Recall 0.029985721085197526\n",
      "Voicing Recall Rate: 0.029985721085197526\n",
      "Voicing False Alarm Rate: 1.0\n"
     ]
    }
   ],
   "source": [
    "print (\"Precision\", TP/(TP+FP))\n",
    "print (\"Recall\", TP/(TP+FN))\n",
    "print (\"Voicing Recall Rate:\", TP/(TP+FN))\n",
    "print (\"Voicing False Alarm Rate:\", FP/(TN+FP))  "
   ]
  },
  {
   "cell_type": "code",
   "execution_count": 43,
   "metadata": {
    "collapsed": false,
    "scrolled": true
   },
   "outputs": [
    {
     "data": {
      "image/png": "[encoded data removed]",
      "text/plain": [
       "<matplotlib.figure.Figure at 0x7f28818db208>"
      ]
     },
     "metadata": {},
     "output_type": "display_data"
    }
   ],
   "source": [
    "# Plot melodic line from annotation\n",
    "plt.figure(figsize=(11,2))\n",
    "plt.plot(lbl, solid_capstyle=\"round\", linewidth=3, color='black')\n",
    "plt.plot(res, solid_capstyle=\"round\", linewidth=1.5, color='green')\n",
    "plt.xlabel('Time (s)')\n",
    "plt.ylabel('Class Index (0-193)')\n",
    "plt.show()"
   ]
  },
  {
   "cell_type": "code",
   "execution_count": 44,
   "metadata": {
    "collapsed": false,
    "scrolled": true
   },
   "outputs": [
    {
     "data": {
      "image/png": "[encoded data removed]",
      "text/plain": [
       "<matplotlib.figure.Figure at 0x7f28818987b8>"
      ]
     },
     "metadata": {},
     "output_type": "display_data"
    }
   ],
   "source": [
    "# We have doubled vocal answers\n",
    "res = []\n",
    "\n",
    "for j in range(len(ynotes)):\n",
    "    res.append(int(vocal[j]*float(ynotes[j])))\n",
    "    if res[j] == 0:\n",
    "        res[j] = None\n",
    "\n",
    "# Plot melodic line from annotation\n",
    "plt.figure(figsize=(11,2))\n",
    "plt.plot(res)\n",
    "plt.xlabel('Time (s)')\n",
    "plt.ylabel('Class Index (0-193)')\n",
    "plt.show()"
   ]
  },
  {
   "cell_type": "code",
   "execution_count": null,
   "metadata": {
    "collapsed": true
   },
   "outputs": [],
   "source": []
  }
 ],
 "metadata": {
  "kernelspec": {
   "display_name": "Python 3",
   "language": "python",
   "name": "python3"
  },
  "language_info": {
   "codemirror_mode": {
    "name": "ipython",
    "version": 3
   },
   "file_extension": ".py",
   "mimetype": "text/x-python",
   "name": "python",
   "nbconvert_exporter": "python",
   "pygments_lexer": "ipython3",
   "version": "3.5.3"
  }
 },
 "nbformat": 4,
 "nbformat_minor": 2
}
