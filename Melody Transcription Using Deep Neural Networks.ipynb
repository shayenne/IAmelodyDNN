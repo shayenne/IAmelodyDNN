{
 "cells": [
  {
   "cell_type": "markdown",
   "metadata": {},
   "source": [
    "<center><h1>SINGING VOICE TRANSCRIPTION USING DEEP NEURAL NETWORKS</h1></center> \n",
    "\n",
    "<h1><center>Implementation</center></h1>\n",
    "\n",
    "CODE AUTHOR: Shayenne Moura, Computer Music Group, University of São Paulo/Brazil\n",
    "\n",
    "*Original article by François Rigaud and Mathieu Radenen, ISMIR 2016.*"
   ]
  },
  {
   "cell_type": "markdown",
   "metadata": {},
   "source": [
    "This notebook presents an implementation of a system for singing voice melody transcription reproduced based an article published in ISMIR 2016. This system is not the original of the paper. Since the details of implementation are not available, different results were achieved."
   ]
  },
  {
   "cell_type": "markdown",
   "metadata": {},
   "source": [
    "### Introduction\n",
    "\n",
    "The main task of this system is to estimate the main melody, i.e., sequences of fundamental frequency ($f_0$) where voice or instrument is active.\n",
    "\n",
    "The approach realized was based in a supervised classification problem. It means that the system need to assign a pitch class for each frame when melody is present and unvoiced class when it is not."
   ]
  },
  {
   "cell_type": "markdown",
   "metadata": {},
   "source": [
    "### System description\n",
    "\n",
    "It was implemented a system proposed as illustrated in figure below. Two Deep Neural Networks (DNNs) are composed in parallel for identify melodic sequences in polyphonic music.\n",
    "\n",
    "<img src=\"systemDNN.png\" alt=\"Drawing\" style=\"width: 300px;\"/>\n",
    "\n",
    "The Voice Activity Detection (VAD) DNN is responsible for decides which frames are voiced/unvoiced. The F0 estimation DNN is responsible for classify a frequency for each frame.\n",
    "\n",
    "The implementation presented here is not the original of the published paper but based on the description given by the article and its references."
   ]
  },
  {
   "cell_type": "markdown",
   "metadata": {},
   "source": [
    "### Preprocess audio signal"
   ]
  },
  {
   "cell_type": "code",
   "execution_count": 1,
   "metadata": {
    "collapsed": false
   },
   "outputs": [
    {
     "name": "stderr",
     "output_type": "stream",
     "text": [
      "Using TensorFlow backend.\n"
     ]
    }
   ],
   "source": [
    "# Import libraries and modules    \n",
    "from librosa import *            # Manipulate and display audio files\n",
    "import librosa.display\n",
    "import scipy                     # Utilize signal functions\n",
    "import matplotlib.pyplot as plt  # Plot graphics\n",
    "%matplotlib inline\n",
    "import numpy as np               # Manipulate arrays efficiently\n",
    "import os, glob                  # Find files in directories\n",
    "import IPython                   # Display audio file in notebook\n",
    "import csv                       # Manipulate .csv files\n",
    "import pandas as pd               # Manipulate data as matrix\n",
    "\n",
    "\n",
    "# Keras modules\n",
    "from keras.models import Model, Sequential, model_from_json, load_model\n",
    "\n",
    "\n",
    "from utils import viterbi_alg\n",
    "\n",
    "# Put your audio file path \n",
    "file_path = \"/var/tmp/IA/MusicDelta_Rockabilly_MIX.wav\" "
   ]
  },
  {
   "cell_type": "markdown",
   "metadata": {},
   "source": [
    "##### Steps of preprocess all data\n",
    "\n",
    "1. Converted to mono\n",
    "1. Re-sampled to 16kHz\n",
    "1. Double-stage Harmonic/Percussive Source Separation\n",
    "    - $h_1$ and $p_1$ (FFT using window of 256ms) by re-sampled signal\n",
    "    - $h_2$ and $p_2$ (FFT using window of 256ms) by $p_1$ signal reconstructed\n",
    "    \n",
    "    \n",
    "*Intuition:* This double-stage Harmonic/Percussive Source Separation [enhance? make more clear?] the separation between more stationary/stable sounds (the harmonic background) and more percussive instruments (such as drum). Melodic signals are usually present on $h_2$ spectrogram."
   ]
  },
  {
   "cell_type": "code",
   "execution_count": 2,
   "metadata": {
    "collapsed": false
   },
   "outputs": [
    {
     "name": "stdout",
     "output_type": "stream",
     "text": [
      "--- Preprocessing...\n",
      "/var/tmp/IA/MusicDelta_Rockabilly_MIX.wav\n",
      "> Audio signal loaded...\n",
      "> First HPSS decomposition (high-frequency resolution)...\n",
      "> Second HPSS decomposition (high-frequency resolution)...\n"
     ]
    }
   ],
   "source": [
    "print (\"--- Preprocessing...\")\n",
    "print (file_path)\n",
    "    \n",
    "# Preprocess audio signal\n",
    "y, sr = librosa.load(file_path, mono=True) # Converted to mono\n",
    "y_16k = librosa.resample(y, sr, 16000)\n",
    "sr = 16000\n",
    "\n",
    "print (\"> Audio signal loaded...\")\n",
    "\n",
    "# Applying HPSS separation\n",
    "# High frequency resolution - more clearly the frequencies\n",
    "print (\"> First HPSS decomposition (high-frequency resolution)...\")\n",
    "\n",
    "# STFT with Hamming window of 256ms (4096 samples) with overlap 0,75 (hop 0.25)\n",
    "s = librosa.stft(y_16k, n_fft=4096, hop_length=int(4096/4), window=scipy.signal.hamming(4096))\n",
    "h1, p1 = librosa.decompose.hpss(s)\n",
    "    \n",
    "    \n",
    "# P1 here has other frequency resolution\n",
    "print (\"> Second HPSS decomposition (high-frequency resolution)...\")\n",
    "# Getting signal - need arguments of stft\n",
    "p1_inverse = librosa.istft(p1, hop_length=int(4096/4), window=scipy.signal.hamming(4096))\n",
    "h1_inverse = librosa.istft(h1, hop_length=int(4096/4), window=scipy.signal.hamming(4096))\n",
    "\n",
    "\n",
    "# STFT with Hamming window of 32ms (512 samples) with overlap 0,75 (hop 0.25)\n",
    "p1_32 = librosa.stft(p1_inverse, n_fft=512, hop_length=int(512/4), window=scipy.signal.hamming(512))\n",
    "h2, p2 = librosa.decompose.hpss(p1_32)   \n",
    "\n",
    "# Getting signal separated - need arguments of stft\n",
    "h2_inverse = librosa.istft(h2, hop_length=int(512/4), window=scipy.signal.hamming(512))\n",
    "p2_inverse = librosa.istft(p2, hop_length=int(512/4), window=scipy.signal.hamming(512))"
   ]
  },
  {
   "cell_type": "markdown",
   "metadata": {},
   "source": [
    "##### Steps of preprocess for VAD\n",
    "\n",
    "For each of the reconstructed signals $h_1$, $h_2$ and $p_2$, timbral features are computed:\n",
    "   - MFCCs with 32ms Hamming windows, 0.75 of overlap, 40 triangular filters on mel scale between 0 and 8kHz.\n",
    "   - Normalized using mean and variance for each coefficient"
   ]
  },
  {
   "cell_type": "code",
   "execution_count": 3,
   "metadata": {
    "collapsed": false
   },
   "outputs": [],
   "source": [
    "\"\"\" Input for VAD \"\"\"    \n",
    "# The input for VAD is the whole signal s = h1 + h2 + p2 in MFCC features\n",
    "h1_mfcc = librosa.feature.melspectrogram(y=h1_inverse, sr=sr, n_fft=512, hop_length=128, n_mels=40, fmax=8000)\n",
    "h2_mfcc = librosa.feature.melspectrogram(y=h2_inverse, sr=sr, n_fft=512, hop_length=128, n_mels=40, fmax=8000)\n",
    "p2_mfcc = librosa.feature.melspectrogram(y=p2_inverse, sr=sr, n_fft=512, hop_length=128, n_mels=40, fmax=8000)\n",
    "    \n",
    "# Write mfcc file (PRECISA DISSO???)\n",
    "with open(file_path[:-4]+'_mfcc.csv', 'w') as csvfile:\n",
    "    spamwriter = csv.writer(csvfile, delimiter=',',\n",
    "                            quotechar='|', quoting=csv.QUOTE_MINIMAL)\n",
    "    col = h1_mfcc.shape[1]\n",
    "    row = np.ndarray(shape=(3*40,))\n",
    "    for i in range(col):\n",
    "        row[  :40] = h1_mfcc[:,i]\n",
    "        row[40:80] = h2_mfcc[:,i]\n",
    "        row[80:  ] = p2_mfcc[:,i]\n",
    "        spamwriter.writerow(row) ### Put the mfcc from h1+h2+p2"
   ]
  },
  {
   "cell_type": "markdown",
   "metadata": {},
   "source": [
    "##### Steps of preprocess for F0-estimation"
   ]
  },
  {
   "cell_type": "markdown",
   "metadata": {},
   "source": [
    "For each signal $p_1$, the features selected are:\n",
    "   - Log-spectrograms with 64ms Hamming windows and 0.75 of overlap [without discarting]\n",
    "   - Rescaled between 0 and 1"
   ]
  },
  {
   "cell_type": "code",
   "execution_count": 4,
   "metadata": {
    "collapsed": false
   },
   "outputs": [],
   "source": [
    "\"\"\" Input for F0-Detection \"\"\"    \n",
    "# Getting signal - need arguments of stft - Discarting frequencies?\n",
    "p1_toF0_inverse = librosa.istft(p1, hop_length=int(4096/4), window=scipy.signal.hamming(4096))\n",
    "\n",
    "# STFT with Hamming window of 64ms (1024 samples) with overlap 0,75 (hop 0.25)\n",
    "p1_toF0 = librosa.stft(p1_toF0_inverse, n_fft=1024, hop_length=int(1024/4), window=scipy.signal.hamming(1024))\n",
    "# Log-spectrogram\n",
    "p1_toF0_log = librosa.amplitude_to_db(p1_toF0, ref=np.max)\n",
    "    \n",
    "## Rescale done for F0 Detection Model (Not cutted)\n",
    "p1_toF0_log = p1_toF0_log - p1_toF0_log.min()\n",
    "p1_toF0_log = p1_toF0_log / p1_toF0_log.max()  \n",
    "    \n",
    "\n",
    "# Write features file \n",
    "with open(file_path[:-4]+'_features.csv', 'w') as csvfile:\n",
    "    spamwriter = csv.writer(csvfile, delimiter=',',\n",
    "                            quotechar='|', quoting=csv.QUOTE_MINIMAL)\n",
    "    col = p1_toF0_log.shape[1]\n",
    "    for i in range(col):\n",
    "        spamwriter.writerow(p1_toF0_log[:,i])"
   ]
  },
  {
   "cell_type": "markdown",
   "metadata": {},
   "source": [
    "### Training Step"
   ]
  },
  {
   "cell_type": "markdown",
   "metadata": {
    "collapsed": true
   },
   "source": [
    "### VAD Training\n"
   ]
  },
  {
   "cell_type": "raw",
   "metadata": {},
   "source": [
    "# Read all files in path and concatenate them \n",
    "print(\"Loading features and labels for training...\")\n",
    "path_mfcc =r'/var/tmp/IA/mfcc/' # use your path\n",
    "path_label =r'/var/tmp/IA/labels/' # use your path\n",
    "\n",
    "list_mfcc = []\n",
    "list_labels = []\n",
    "\n",
    "i = 0\n",
    "for filename in os.listdir(path_mfcc):\n",
    "    if i > 2:\n",
    "        break\n",
    "    if filename.endswith(\"mfcc.csv\"):\n",
    "        music = filename\n",
    "        music = music[:-8]\n",
    "        print (music)\n",
    "        print(\"   Load\", path_mfcc+music+\"mfcc.csv\")\n",
    "        d1 = pd.read_csv(path_mfcc+music+\"mfcc.csv\",index_col=None, header=None)\n",
    "        list_mfcc.append(d1)\n",
    "        print(\"   Load\", path_label+music+\"labels.csv\")\n",
    "        d2 = pd.read_csv(path_label+music+\"labels.csv\",index_col=None, header=None)\n",
    "        list_labels.append(d2)\n",
    "    i +=1\n",
    "    \n",
    "# Grouping data \n",
    "frame = pd.concat(list_mfcc)\n",
    "label = pd.concat(list_labels)\n",
    "\n",
    "\n",
    "# Formating data\n",
    "df2=pd.DataFrame.as_matrix(frame)\n",
    "df4=pd.DataFrame.as_matrix(label)\n",
    "df4[df4 > 0] = 1\n",
    "print(\"Data's shape:\", df2.shape)\n",
    "print(\"Data's shape:\", df4.shape)\n",
    "\n",
    "\n",
    "# Rescale the data over all training set\n",
    "meanDF = df2 - np.mean(df2, axis=0).reshape(1, df2.shape[1])\n",
    "stdDF  = meanDF / np.std(meanDF, axis=0).reshape(1, df2.shape[1])\n",
    "print(\"Data's shape:\", df2.shape)\n",
    "\n",
    "\n",
    "# Train and test data\n",
    "x_train = df2\n",
    "y_train = df4\n",
    "\n",
    "# Padding sequences for input \n",
    "x_train = sequence.pad_sequences(x_train, maxlen=maxlen)\n",
    "\n",
    "\n",
    "# Important variables\n",
    "max_features = 120\n",
    "hidden_neurons = 50\n",
    "maxlen = 120\n",
    "\n",
    "\n",
    "# Create model\n",
    "print(\"Create model...\")\n",
    "model = Sequential()\n",
    "model.add(Embedding(max_features, 50, input_length=maxlen))\n",
    "model.add(Bidirectional(LSTM(50, return_sequences=True, kernel_initializer = RandomNormal(mean = 0, stddev = 0.1))))\n",
    "model.add(Bidirectional(LSTM(50, return_sequences=True, kernel_initializer = RandomNormal(mean = 0, stddev = 0.1))))\n",
    "model.add(Bidirectional(LSTM(50, kernel_initializer = RandomNormal(mean = 0, stddev = 0.1))))\n",
    "#model.add(Dropout(0.5))\n",
    "model.add(Dense(1, activation='sigmoid'))\n",
    "\n",
    "\n",
    "# Compile model\n",
    "print(\"Compile model...\")\n",
    "model.compile(loss='binary_crossentropy', metrics=['accuracy'], optimizer='adam')\n",
    "# The adam optimizer was used to reduce implementation details\n",
    "\n",
    "\n",
    "# Fit the model\n",
    "print(\"Starting model training...\")\n",
    "for i in range(25):\n",
    "    model.fit(x_train, y_train,\n",
    "              batch_size=100,\n",
    "              epochs=1,\n",
    "              validation_split=0.1, shuffle=True) \n",
    "    print(\"> Finished\", i+1 , \"epochs\")\n",
    "    # Serialize model to JSON\n",
    "    model_json = model.to_json()\n",
    "    with open(\"SVDmodel.json\", \"w\") as json_file:\n",
    "        json_file.write(model_json)\n",
    "    # Serialize weights to HDF5\n",
    "    model.save_weights(\"SVDmodel.h5\")\n",
    "    print(\"> Saved model to disk\")\n",
    "          \n",
    "        \n",
    "# Evaluate the model          \n",
    "scores = model.evaluate(x_train, y_train)\n",
    "print(\"\\n%s: %.2f%%\" % (model.metrics_names[1], scores[1]*100))\n"
   ]
  },
  {
   "cell_type": "markdown",
   "metadata": {},
   "source": [
    "### F0-estimation Training"
   ]
  },
  {
   "cell_type": "raw",
   "metadata": {},
   "source": [
    "\n",
    "# Read all files in path and concatenate them \n",
    "print(\"Loading features and labels for training...\")\n",
    "path_features =r'/var/tmp/IA/features/' # use your path\n",
    "path_label =r'/var/tmp/IA/labels/' # use your path\n",
    "\n",
    "list_mfcc = []\n",
    "list_labels = []\n",
    "\n",
    "# Loading files\n",
    "for filename in os.listdir(path_mfcc):\n",
    "    \n",
    "    if filename.endswith(\"features.csv\"):\n",
    "        music = filename\n",
    "        music = music[:-12]\n",
    "        print (music)\n",
    "        print(\"   Load\", path_features+music+\"features.csv\")\n",
    "        d1 = pd.read_csv(path_features+music+\"features.csv\",index_col=None, header=None)\n",
    "        list_mfcc.append(d1)\n",
    "        print(\"   Load\", path_label+music+\"labels.csv\")\n",
    "        d2 = pd.read_csv(path_label+music+\"labels.csv\",index_col=None, header=None)\n",
    "        list_labels.append(d2)\n",
    "        \n",
    "# Grouping data \n",
    "frame = pd.concat(list_mfcc)\n",
    "label = pd.concat(list_labels)\n",
    "\n",
    "\n",
    "# Formating data\n",
    "df2=pd.DataFrame.as_matrix(frame)\n",
    "\n",
    "df4=pd.DataFrame.as_matrix(label)\n",
    "df4 = df4[::2] # Hop size is doubled in features\n",
    "\n",
    "df5 = np.zeros(shape=(df2.shape[0],1))\n",
    "df5[:df4.shape[0],:] = df4\n",
    "\n",
    "print(\"Data's shape:\", df2.shape)\n",
    "print(\"Data's shape:\", df5.shape)\n",
    "\n",
    "\n",
    "# Remove no vocal frames - train with only vocal frames\n",
    "print(\"Removing no vocal frames from train data...\")\n",
    "no_vocal = np.where(df5[:,0] < 1)\n",
    "\n",
    "for i in reversed(no_vocal):\n",
    "    df2 = np.delete(df2, i, axis=0)\n",
    "    df5 = np.delete(df5, i, axis=0)\n",
    "\n",
    "print(\"Data's shape after remove:\", df2.shape)\n",
    "print(\"Data's shape after remove:\", df5.shape)\n",
    "\n",
    "\n",
    "# Train and test data\n",
    "X = df2\n",
    "Y = keras.utils.to_categorical(df5, num_classes=193) \n",
    "# To categorical formats the target to vectors of 0s and 1 on correspondent class\n",
    "\n",
    "\n",
    "# Create model \n",
    "print(\"Create model...\")\n",
    "model = Sequential()\n",
    "model.add(Dense(500, input_dim=513, activation='sigmoid'))\n",
    "model.add(Dense(500, activation='sigmoid'))\n",
    "model.add(Dense(193, activation='softmax'))\n",
    "\n",
    "\n",
    "# Compile model\n",
    "print(\"Compile model...\")\n",
    "model.compile(loss='categorical_crossentropy', optimizer='adam', metrics=['accuracy'])\n",
    "# The adam optimizer was used to reduce implementation details\n",
    "\n",
    "\n",
    "# Fit the model\n",
    "print(\"Starting model training...\")\n",
    "for i in range(100):\n",
    "    model.fit(X, Y, \n",
    "              epochs=1, \n",
    "              batch_size=30, \n",
    "              validation_split=0.1, \n",
    "              shuffle=True)\n",
    "    print(\"> Finished\", i+1 , \"epochs\")\n",
    "    # Serialize model to JSON\n",
    "    model_json = model.to_json()\n",
    "    with open(\"f0model.json\", \"w\") as json_file:\n",
    "        json_file.write(model_json)\n",
    "    # Serialize weights to HDF5\n",
    "    model.save_weights(\"f0model.h5\")\n",
    "    print(\"> Saved model to disk\")\n",
    "\n",
    "\n",
    "# Evaluate the model\n",
    "scores = model.evaluate(X, Y)\n",
    "print(\"\\n%s: %.2f%%\" % (model.metrics_names[1], scores[1]*100))"
   ]
  },
  {
   "cell_type": "markdown",
   "metadata": {},
   "source": [
    "# Making Predictions"
   ]
  },
  {
   "cell_type": "markdown",
   "metadata": {},
   "source": [
    "The melodic line was given by the result of these two DNNs composed."
   ]
  },
  {
   "cell_type": "markdown",
   "metadata": {},
   "source": [
    "### VAD results "
   ]
  },
  {
   "cell_type": "markdown",
   "metadata": {},
   "source": [
    "The voice estimation is done by the following steps:\n",
    "\n",
    " 1. Load and compile the VAD DNN;\n",
    " 1. Load the features of the music to be estimated;\n",
    " 1. Normalize the features to feed the DNN;\n",
    " 1. Predict the probability to be voiced;\n",
    " 1. Threshold frames with probability greater than 0.5 as voiced."
   ]
  },
  {
   "cell_type": "code",
   "execution_count": 5,
   "metadata": {
    "collapsed": false
   },
   "outputs": [
    {
     "name": "stdout",
     "output_type": "stream",
     "text": [
      "Loaded model from disk\n",
      "Compiled model\n"
     ]
    }
   ],
   "source": [
    "# load json and create model\n",
    "json_file = open('25SVDmodel.json', 'r')\n",
    "loaded_model_json = json_file.read()\n",
    "json_file.close()\n",
    "loaded_model_svd = model_from_json(loaded_model_json)\n",
    "# load weights into new model\n",
    "loaded_model_svd.load_weights(\"25SVDmodel.h5\")\n",
    "print(\"Loaded model from disk\")\n",
    "\n",
    "# compile loaded model with the same parameters\n",
    "loaded_model_svd.compile(loss='binary_crossentropy', optimizer='adam', metrics=['accuracy'])\n",
    "print(\"Compiled model\")"
   ]
  },
  {
   "cell_type": "code",
   "execution_count": 6,
   "metadata": {
    "collapsed": false
   },
   "outputs": [
    {
     "name": "stdout",
     "output_type": "stream",
     "text": [
      "Loaded model from disk\n",
      "Compiled model\n"
     ]
    }
   ],
   "source": [
    "# load best weights into new model\n",
    "loaded_model_svd.load_weights(\"weights.best.hdf5\")\n",
    "print(\"Loaded model from disk\")\n",
    "\n",
    "# compile loaded model with the same parameters\n",
    "loaded_model_svd.compile(loss='binary_crossentropy', optimizer='adam', metrics=['accuracy'])\n",
    "print(\"Compiled model\")"
   ]
  },
  {
   "cell_type": "code",
   "execution_count": 7,
   "metadata": {
    "collapsed": false
   },
   "outputs": [
    {
     "name": "stdout",
     "output_type": "stream",
     "text": [
      "(3241, 120)\n"
     ]
    }
   ],
   "source": [
    "# Load data to classify\n",
    "df1 = pd.read_csv(file_path[:-4]+\"_mfcc.csv\", header=None)\n",
    "X = pd.DataFrame.as_matrix(df1)\n",
    "print (X.shape)"
   ]
  },
  {
   "cell_type": "code",
   "execution_count": 8,
   "metadata": {
    "collapsed": false
   },
   "outputs": [],
   "source": [
    "# Data Normalization - necessary! (Better results on network training) \n",
    "meanDF = X - np.mean(X, axis=0).reshape(1, X.shape[1])\n",
    "X  = meanDF / np.std(meanDF, axis=0).reshape(1, X.shape[1])"
   ]
  },
  {
   "cell_type": "code",
   "execution_count": 9,
   "metadata": {
    "collapsed": false
   },
   "outputs": [],
   "source": [
    "# calculate predictions\n",
    "voiced = loaded_model_svd.predict(X)"
   ]
  },
  {
   "cell_type": "code",
   "execution_count": 10,
   "metadata": {
    "collapsed": false
   },
   "outputs": [
    {
     "data": {
      "image/png": "[encoded data removed]",
      "text/plain": [
       "<matplotlib.figure.Figure at 0x7fd5fc42e4a8>"
      ]
     },
     "metadata": {},
     "output_type": "display_data"
    }
   ],
   "source": [
    "# Plot probability of voice presence\n",
    "plt.figure(figsize=(11,2))\n",
    "plt.plot(voiced)\n",
    "plt.xlabel('Time (s)')\n",
    "plt.ylabel('Class Index (0-193)')\n",
    "plt.show()"
   ]
  },
  {
   "cell_type": "code",
   "execution_count": 32,
   "metadata": {
    "collapsed": false
   },
   "outputs": [
    {
     "data": {
      "image/png": "[encoded data removed]",
      "text/plain": [
       "<matplotlib.figure.Figure at 0x7fd6384583c8>"
      ]
     },
     "metadata": {},
     "output_type": "display_data"
    }
   ],
   "source": [
    "# Activation output - need to be 0.5\n",
    "vcd = voiced.copy()\n",
    "vcd[vcd <  0.5] = 0\n",
    "vcd[vcd >= 0.5] = 1\n",
    "\n",
    "# Plot melodic line from annotation\n",
    "plt.figure(figsize=(11,2))\n",
    "plt.plot(vcd)\n",
    "plt.xlabel('Time (s)')\n",
    "plt.ylabel('Class Index (0-193)')\n",
    "plt.show()"
   ]
  },
  {
   "cell_type": "markdown",
   "metadata": {},
   "source": [
    "### Measures to evaluate the result"
   ]
  },
  {
   "cell_type": "markdown",
   "metadata": {},
   "source": [
    "Following cells makes a small evaluation of the results from VAD DNN.\n",
    "\n",
    "First, load the piece labels to compare with the voice estimated here."
   ]
  },
  {
   "cell_type": "code",
   "execution_count": 28,
   "metadata": {
    "collapsed": false
   },
   "outputs": [
    {
     "data": {
      "image/png": "[encoded data removed]",
      "text/plain": [
       "<matplotlib.figure.Figure at 0x7fd550727630>"
      ]
     },
     "metadata": {},
     "output_type": "display_data"
    },
    {
     "data": {
      "image/png": "[encoded data removed]",
      "text/plain": [
       "<matplotlib.figure.Figure at 0x7fd5ac6d4a58>"
      ]
     },
     "metadata": {},
     "output_type": "display_data"
    }
   ],
   "source": [
    "# Get labels to compare\n",
    "annot = \"/var/tmp/IA/labels/MusicDelta_Rockabilly_labels.csv\"\n",
    "\n",
    "labels = [] # Notes are present\n",
    "lbl    = [] # Only voiced/unvoiced\n",
    "\n",
    "with open(annot) as csvfile:\n",
    "    reader = csv.reader(csvfile)\n",
    "    for row in reader:\n",
    "        labels.append(float(row[0]))\n",
    "        \n",
    "for i in range(len(labels)):\n",
    "    if labels[i] <= 0:\n",
    "        labels[i] = None\n",
    "        lbl.append(None)\n",
    "    else:\n",
    "        lbl.append(1)\n",
    "        \n",
    "# Plot melodic line from annotation\n",
    "plt.figure(figsize=(11,2))\n",
    "axes = plt.gca()\n",
    "axes.set_ylim([0,193])\n",
    "plt.plot(labels[::2])\n",
    "plt.xlabel('Time (s)')\n",
    "plt.ylabel('Frequency (Hz)')\n",
    "plt.show()\n",
    "\n",
    "# Plot voiced line from annotation\n",
    "plt.figure(figsize=(11,2))\n",
    "axes = plt.gca()\n",
    "axes.set_ylim([0.5,1.5])\n",
    "plt.plot(lbl[::2])\n",
    "plt.xlabel('Time (s)')\n",
    "plt.ylabel('Voiced/Unvoiced')\n",
    "plt.show()"
   ]
  },
  {
   "cell_type": "markdown",
   "metadata": {},
   "source": [
    "Now, are calculated TN (true negatives), TP (true positives), FN (false negatives), FP (false positives) to evaluate.\n",
    "\n",
    "Comparing different measures:\n",
    " 1. P: Precision\n",
    " 1. R: Recall\n",
    " 1. F: F-measure\n",
    " 1. FA: False Alarm Rate\n",
    " 1. VA: Voicing Accuracy\n",
    " 1. OA: Overall Accuracy"
   ]
  },
  {
   "cell_type": "code",
   "execution_count": 35,
   "metadata": {
    "collapsed": false
   },
   "outputs": [],
   "source": [
    "# We have the same value of voiced frames and labeled frames!!!\n",
    "TN, TP, FN, FP = 0, 0, 0, 0\n",
    "\n",
    "res = vcd.copy()\n",
    "res[vcd <  0.5] = None\n",
    "\n",
    "for j in range(len(vcd)):\n",
    "    if res[j] is None:\n",
    "        if lbl[j] == res[j]:\n",
    "            TN += 1\n",
    "        else:\n",
    "            FN += 1\n",
    "\n",
    "    if lbl[j] is not None:\n",
    "        if lbl[j] == res[j]:\n",
    "            TP += 1\n",
    "    \n",
    "    elif res[j] is 1:\n",
    "        FP += 1\n",
    "        \n",
    "        \n",
    "print (\"Precision\", TP/(TP+FP))\n",
    "print (\"Recall\", TP/(TP+FN))\n",
    "print (\"Voicing Recall Rate:\", TP/(TP+FN))\n",
    "print (\"Voicing False Alarm Rate:\", FP/(TN+FP))  \n",
    "### Calculate the overal accuracy"
   ]
  },
  {
   "cell_type": "code",
   "execution_count": 31,
   "metadata": {
    "collapsed": false
   },
   "outputs": [
    {
     "data": {
      "image/png": "[encoded data removed]",
      "text/plain": [
       "<matplotlib.figure.Figure at 0x7fd56c7ad7f0>"
      ]
     },
     "metadata": {},
     "output_type": "display_data"
    }
   ],
   "source": [
    "# Plot melodic line from annotation\n",
    "plt.figure(figsize=(11,2))\n",
    "plt.plot(lbl, solid_capstyle=\"round\", linewidth=4, color='black')\n",
    "plt.plot(res, solid_capstyle=\"round\", linewidth=2, color='green')\n",
    "plt.xlabel('Time (s)')\n",
    "plt.ylabel('Class Index (0-193)')\n",
    "plt.show()"
   ]
  },
  {
   "cell_type": "markdown",
   "metadata": {},
   "source": [
    "### F0 prediction"
   ]
  },
  {
   "cell_type": "markdown",
   "metadata": {},
   "source": [
    "The f0-line estimation is done by the following steps:\n",
    "\n",
    " 1. Load and compile the F0-estimation DNN;\n",
    " 1. Load the MFCCs of the music to be estimated;\n",
    " 1. Normalize the features to feed the DNN (made on preprocess); \n",
    " 1. Predict the probability distribution for each frame;\n",
    " 1. Get the most probable class on this distribution;\n",
    " 1. Apply Viterbi algorithm to smooth the estimated line."
   ]
  },
  {
   "cell_type": "code",
   "execution_count": 14,
   "metadata": {
    "collapsed": false
   },
   "outputs": [
    {
     "name": "stdout",
     "output_type": "stream",
     "text": [
      "Loaded model from disk\n",
      "Compiled model\n"
     ]
    }
   ],
   "source": [
    "# Load json and create model\n",
    "json_file = open('f0model.json', 'r')\n",
    "loaded_model_json = json_file.read()\n",
    "json_file.close()\n",
    "loaded_model_f0 = model_from_json(loaded_model_json)\n",
    "# Load weights into new model\n",
    "loaded_model_f0.load_weights(\"f0model.h5\")\n",
    "print(\"Loaded model from disk\")\n",
    " \n",
    "# Compile loaded model with the same parameters\n",
    "loaded_model_f0.compile(loss='categorical_crossentropy', optimizer='adam', metrics=['accuracy'])\n",
    "print(\"Compiled model\")"
   ]
  },
  {
   "cell_type": "code",
   "execution_count": 15,
   "metadata": {
    "collapsed": false
   },
   "outputs": [
    {
     "name": "stdout",
     "output_type": "stream",
     "text": [
      "(1621, 513)\n"
     ]
    }
   ],
   "source": [
    "# Load data to classify\n",
    "df1=pd.read_csv(file_path[:-4]+\"_features.csv\",header=None)\n",
    "X=pd.DataFrame.as_matrix(df1)\n",
    "print (X.shape)"
   ]
  },
  {
   "cell_type": "code",
   "execution_count": 16,
   "metadata": {
    "collapsed": true
   },
   "outputs": [],
   "source": [
    "# Calculate predictions\n",
    "predictions = loaded_model_f0.predict(X)"
   ]
  },
  {
   "cell_type": "code",
   "execution_count": 17,
   "metadata": {
    "collapsed": false
   },
   "outputs": [
    {
     "data": {
      "image/png": "[encoded data removed]",
      "text/plain": [
       "<matplotlib.figure.Figure at 0x7fd6384583c8>"
      ]
     },
     "metadata": {},
     "output_type": "display_data"
    }
   ],
   "source": [
    "# Plot the grid\n",
    "plt.figure(figsize=(10,6))\n",
    "plt.imshow(np.transpose(predictions), origin='lower')\n",
    "plt.show()"
   ]
  },
  {
   "cell_type": "code",
   "execution_count": 18,
   "metadata": {
    "collapsed": true
   },
   "outputs": [],
   "source": [
    "# Max probability line\n",
    "ynotes = np.argmax(np.transpose(predictions), axis=0)"
   ]
  },
  {
   "cell_type": "code",
   "execution_count": 19,
   "metadata": {
    "collapsed": false
   },
   "outputs": [
    {
     "name": "stdout",
     "output_type": "stream",
     "text": [
      "obs1 is [77 25 92 ..., 51 88 88]\n",
      "obs1, best path is[ 76.  77.  77. ...,  52.  88.  89.]\n"
     ]
    }
   ],
   "source": [
    "####    Viterbi post processing    ###\n",
    "\n",
    "# Log-probabilities matrix\n",
    "trans_mtx = np.ones((193 ,193))\n",
    "for k in range(193):\n",
    "    for l in range(193):\n",
    "        trans_mtx[k][l] = 1/abs(k-l+0.1)\n",
    "\n",
    "# Make the signal smooth\n",
    "best_path_ind, paths, log_probs = viterbi_alg(trans_mtx, trans_mtx, ynotes)\n",
    "print (\"obs1 is \" + str(ynotes))\n",
    "print (\"obs1, best path is\" + str(paths[best_path_ind,:]))"
   ]
  },
  {
   "cell_type": "code",
   "execution_count": 20,
   "metadata": {
    "collapsed": false
   },
   "outputs": [
    {
     "data": {
      "image/png": "[encoded data removed]",
      "text/plain": [
       "<matplotlib.figure.Figure at 0x7fd5ac76fc88>"
      ]
     },
     "metadata": {},
     "output_type": "display_data"
    },
    {
     "data": {
      "image/png": "[encoded data removed]",
      "text/plain": [
       "<matplotlib.figure.Figure at 0x7fd5ac6dc390>"
      ]
     },
     "metadata": {},
     "output_type": "display_data"
    }
   ],
   "source": [
    "# Plot melodic line from annotation and result\n",
    "plt.figure(figsize=(11,2))\n",
    "axes = plt.gca()\n",
    "axes.set_ylim([0,193])\n",
    "plt.plot(labels[::2], solid_capstyle=\"round\", linewidth=4, color='black')\n",
    "plt.plot(ynotes, solid_capstyle=\"round\", linewidth=1, color='gray')\n",
    "plt.xlabel('Time (s)')\n",
    "plt.ylabel('Class Index (0-193)')\n",
    "plt.show()\n",
    "\n",
    "plt.figure(figsize=(11,2))\n",
    "axes = plt.gca()\n",
    "axes.set_ylim([0,193])\n",
    "plt.plot(labels[::2], solid_capstyle=\"round\", linewidth=4, color='black')\n",
    "plt.plot(paths[best_path_ind,:], solid_capstyle=\"round\", linewidth=2, color='green')\n",
    "plt.xlabel('Time (s)')\n",
    "plt.ylabel('Class Index (0-193)')\n",
    "plt.show()"
   ]
  },
  {
   "cell_type": "markdown",
   "metadata": {},
   "source": [
    "### Measures to evaluate F0-estimation results\n"
   ]
  },
  {
   "cell_type": "markdown",
   "metadata": {},
   "source": [
    "Following cells makes a small evaluation of the results from F0-estimation DNN.\n",
    "\n",
    "Comparing different measures (with and without Viterbi tracking):\n",
    " 1. RPA: Raw Pitch Accuracy\n",
    " 1. RCA: Raw Chroma Accuracy"
   ]
  },
  {
   "cell_type": "code",
   "execution_count": 21,
   "metadata": {
    "collapsed": false
   },
   "outputs": [
    {
     "name": "stdout",
     "output_type": "stream",
     "text": [
      "Raw Pitch Accuracy: 0.5103806228373703\n"
     ]
    }
   ],
   "source": [
    "# RAW PITCH ACCURACY (error less than a half of a semitone)\n",
    "# How the classes are done for represent an eight of tone, if the error of estimation\n",
    "# is in the range {f0-2, f0+2}, the estimation is correct. res = ynotes\n",
    "lbl = labels[::2]\n",
    "res = ynotes\n",
    "acc = 0\n",
    "vstar = 0\n",
    "\n",
    "for j in range(len(ynotes)):\n",
    "    if lbl[j] is not None:\n",
    "        vstar += 1\n",
    "        if res[j] >= lbl[j]-2 and res[j] <= lbl[j]+2:\n",
    "            acc += 1\n",
    "    \n",
    "print (\"Raw Pitch Accuracy:\", acc/vstar)   \n",
    "## Calculate the RCA"
   ]
  },
  {
   "cell_type": "code",
   "execution_count": 22,
   "metadata": {
    "collapsed": false
   },
   "outputs": [
    {
     "name": "stdout",
     "output_type": "stream",
     "text": [
      "Raw Pitch Accuracy: 0.5622837370242214\n"
     ]
    }
   ],
   "source": [
    "# RAW PITCH ACCURACY (error less than a half of a semitone)\n",
    "# How the classes are done for represent an eight of tone, if the error of estimation\n",
    "# is in the range {f0-2, f0+2}, the estimation is correct. res = ynotes\n",
    "lbl = labels[::2]\n",
    "res = paths[best_path_ind,:]\n",
    "acc = 0\n",
    "vstar = 0\n",
    "\n",
    "for j in range(len(ynotes)):\n",
    "    if lbl[j] is not None:\n",
    "        vstar += 1\n",
    "        if res[j] >= lbl[j]-2 and res[j] <= lbl[j]+2:\n",
    "            acc += 1\n",
    "    \n",
    "print (\"Raw Pitch Accuracy:\", acc/vstar)    "
   ]
  },
  {
   "cell_type": "markdown",
   "metadata": {},
   "source": [
    "### Final result"
   ]
  },
  {
   "cell_type": "markdown",
   "metadata": {},
   "source": [
    "The complete estimation is composed by the DNNs results: **The note estimated when voice is present**"
   ]
  },
  {
   "cell_type": "code",
   "execution_count": 37,
   "metadata": {
    "collapsed": false
   },
   "outputs": [
    {
     "data": {
      "image/png": "[encoded data removed]",
      "text/plain": [
       "<matplotlib.figure.Figure at 0x7fd5506e9c88>"
      ]
     },
     "metadata": {},
     "output_type": "display_data"
    }
   ],
   "source": [
    "# We have doubled vocal answers\n",
    "final = []\n",
    "\n",
    "for j in range(len(ynotes)):\n",
    "    final.append(vcd[::2][j]*float(paths[best_path_ind,:][j]))\n",
    "    if final[j] == 0:\n",
    "        final[j] = None\n",
    "\n",
    "# Plot melodic line from annotation\n",
    "plt.figure(figsize=(11,2))\n",
    "plt.plot(final)\n",
    "plt.xlabel('Time (s)')\n",
    "plt.ylabel('Class Index (0-193)')\n",
    "plt.show()"
   ]
  },
  {
   "cell_type": "code",
   "execution_count": null,
   "metadata": {
    "collapsed": true
   },
   "outputs": [],
   "source": []
  }
 ],
 "metadata": {
  "kernelspec": {
   "display_name": "Python 3",
   "language": "python",
   "name": "python3"
  },
  "language_info": {
   "codemirror_mode": {
    "name": "ipython",
    "version": 3
   },
   "file_extension": ".py",
   "mimetype": "text/x-python",
   "name": "python",
   "nbconvert_exporter": "python",
   "pygments_lexer": "ipython3",
   "version": "3.5.3"
  }
 },
 "nbformat": 4,
 "nbformat_minor": 2
}
