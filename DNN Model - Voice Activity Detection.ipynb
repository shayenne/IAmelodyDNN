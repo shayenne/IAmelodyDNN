{
 "cells": [
  {
   "cell_type": "code",
   "execution_count": null,
   "metadata": {
    "collapsed": true
   },
   "outputs": [],
   "source": [
    "Just make sure the labels are each binary arrays:\n",
    "\n",
    "(X_train, y_train), (X_test, y_test), maxlen, word_ids, tags_ids = prep_model(\n",
    "    nb_words=nb_words, test_len=75)\n",
    "\n",
    "W = (y_train > 0).astype('float')\n",
    "\n",
    "print(len(X_train), 'train sequences')\n",
    "print(int(len(X_train)*val_split), 'validation sequences')\n",
    "print(len(X_test), 'heldout sequences')\n",
    "\n",
    "# this is the placeholder tensor for the input sequences\n",
    "sequence = Input(shape=(maxlen,), dtype='int32')\n",
    "\n",
    "# this embedding layer will transform the sequences of integers\n",
    "# into vectors of size 256\n",
    "embedded = Embedding(nb_words, output_dim=hidden,\n",
    "                     input_length=maxlen, mask_zero=True)(sequence)\n",
    "\n",
    "# apply forwards LSTM\n",
    "forwards = LSTM(output_dim=hidden, return_sequences=True)(embedded)\n",
    "# apply backwards LSTM\n",
    "backwards = LSTM(output_dim=hidden, return_sequences=True,\n",
    "                 go_backwards=True)(embedded)\n",
    "\n",
    "# concatenate the outputs of the 2 LSTMs\n",
    "merged = merge([forwards, backwards], mode='concat', concat_axis=-1)\n",
    "after_dp = Dropout(0.15)(merged)\n",
    "\n",
    "# TimeDistributed for sequence\n",
    "# change activation to sigmoid?\n",
    "output = TimeDistributed(\n",
    "    Dense(output_dim=nb_classes,\n",
    "          activation='softmax'))(after_dp)\n",
    "\n",
    "model = Model(input=sequence, output=output)\n",
    "\n",
    "# try using different optimizers and different optimizer configs\n",
    "# loss=binary_crossentropy, optimizer=rmsprop\n",
    "model.compile(loss='categorical_crossentropy',\n",
    "              metrics=['accuracy'], optimizer='adam',\n",
    "              sample_weight_mode='temporal')\n",
    "\n",
    "print('Train...')\n",
    "model.fit(X_train, y_train,\n",
    "          batch_size=batch_size,\n",
    "          nb_epoch=epochs,\n",
    "          shuffle=True,\n",
    "          validation_split=val_split,\n",
    "          sample_weight=W)"
   ]
  }
 ],
 "metadata": {
  "kernelspec": {
   "display_name": "Python 3",
   "language": "python",
   "name": "python3"
  },
  "language_info": {
   "codemirror_mode": {
    "name": "ipython",
    "version": 3
   },
   "file_extension": ".py",
   "mimetype": "text/x-python",
   "name": "python",
   "nbconvert_exporter": "python",
   "pygments_lexer": "ipython3",
   "version": "3.5.2"
  }
 },
 "nbformat": 4,
 "nbformat_minor": 0
}
